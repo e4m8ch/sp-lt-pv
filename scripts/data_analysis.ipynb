{
 "cells": [
  {
   "cell_type": "markdown",
   "id": "2acce07b",
   "metadata": {},
   "source": [
    "# SPheroidal Light Trapping Photovoltaics"
   ]
  },
  {
   "cell_type": "markdown",
   "id": "da3386da",
   "metadata": {},
   "source": [
    "This notebook is dedicated to the analysis of data acquired during my Bachelor's dissertation at IST titled \"Optical Optimization of Nanopatterned Perovskite Solar Cells\". You can find the full repository here: [GitHub – sp-lt-pv](https://github.com/e4m8ch/sp-lt-pv).\n",
    "\n",
    "This work was based on:\n",
    "\n",
    "> Haque, S., Alexandre, M., Baretzky, C., Rossi, D., De Rossi, F., Vicente, A. T., Brunetti, F., Águas, H., Ferreira, R. A. S., Fortunato, E., Auf der Maur, M., Würfel, U., Martins, R., & Mendes, M. J. (2022). *Photonic-structured perovskite solar cells: Detailed optoelectronic analysis*. **ACS Photonics, 9**(7), 2408–2421. [https://doi.org/10.1021/acsphotonics.2c00446](https://doi.org/10.1021/acsphotonics.2c00446)\n"
   ]
  },
  {
   "cell_type": "code",
   "execution_count": 10,
   "id": "d1975324",
   "metadata": {},
   "outputs": [],
   "source": [
    "# Imports\n",
    "import pandas as pd\n",
    "import numpy as np\n",
    "import matplotlib.pyplot as plt\n",
    "\n",
    "# Path to the data file. Current path is the default for this repository\n",
    "path = \"../docs/RAW_DATA.xlsx\""
   ]
  },
  {
   "cell_type": "markdown",
   "id": "5d089e56",
   "metadata": {},
   "source": [
    "# Absorption Data"
   ]
  },
  {
   "cell_type": "code",
   "execution_count": 11,
   "id": "2966fb35",
   "metadata": {},
   "outputs": [],
   "source": [
    "# Create dataframe with the first sheet of the .xlsx file, corresponding to the absorption data\n",
    "df_abs = pd.read_excel(path, sheet_name=\"Absorption\")\n",
    "\n",
    "df_abs_am15 = df_abs.filter(like=\"AM15\")  # all columns containing \"AM15\"\n",
    "df_abs_am0 = df_abs.filter(like=\"AM0\")   # all columns containing \"AM0\"\n",
    "\n",
    "# Plotting the data\n",
    "\n"
   ]
  },
  {
   "cell_type": "markdown",
   "id": "55765958",
   "metadata": {},
   "source": [
    "# Convergence Testing"
   ]
  },
  {
   "cell_type": "code",
   "execution_count": 12,
   "id": "cea9c5f4",
   "metadata": {},
   "outputs": [
    {
     "data": {
      "application/vnd.microsoft.datawrangler.viewer.v0+json": {
       "columns": [
        {
         "name": "index",
         "rawType": "int64",
         "type": "integer"
        },
        {
         "name": "GlobalMesh_X",
         "rawType": "float64",
         "type": "float"
        },
        {
         "name": "GlobalMesh_Y",
         "rawType": "float64",
         "type": "float"
        },
        {
         "name": "GlobalMesh_t",
         "rawType": "float64",
         "type": "float"
        },
        {
         "name": "PML_X",
         "rawType": "int64",
         "type": "integer"
        },
        {
         "name": "PML_Y",
         "rawType": "float64",
         "type": "float"
        },
        {
         "name": "PML_t",
         "rawType": "int64",
         "type": "integer"
        },
        {
         "name": "XYMesh_X",
         "rawType": "float64",
         "type": "float"
        },
        {
         "name": "XYMesh_Y",
         "rawType": "float64",
         "type": "float"
        },
        {
         "name": "XYMesh_t",
         "rawType": "float64",
         "type": "float"
        },
        {
         "name": "ZMesh_X",
         "rawType": "float64",
         "type": "float"
        },
        {
         "name": "ZMesh_Y",
         "rawType": "float64",
         "type": "float"
        },
        {
         "name": "Z Mesh_t",
         "rawType": "float64",
         "type": "float"
        }
       ],
       "ref": "a4db2328-2820-4f8b-92e3-66a6cbb24864",
       "rows": [
        [
         "0",
         "1.0",
         "258.319",
         "18.0",
         "8",
         "264.484",
         "77",
         "4.0",
         "265.64",
         "220.0",
         "4.0",
         "266.62",
         "450.0"
        ],
        [
         "1",
         "2.0",
         "264.477",
         "91.0",
         "9",
         "264.485",
         "88",
         "5.0",
         "268.124",
         "351.0",
         "5.0",
         "266.88",
         "553.0"
        ],
        [
         "2",
         "3.0",
         "265.605",
         "281.0",
         "10",
         "264.485",
         "74",
         "6.0",
         "268.305",
         "579.0",
         "6.0",
         "266.261",
         "634.0"
        ],
        [
         "3",
         "4.0",
         "265.536",
         "712.0",
         "11",
         "264.477",
         "74",
         "7.0",
         "268.623",
         "759.0",
         "7.0",
         "267.667",
         "725.0"
        ],
        [
         "4",
         "5.0",
         "265.997",
         "1364.0",
         "12",
         "264.477",
         "74",
         "8.0",
         "268.224",
         "1037.0",
         "8.0",
         "267.753",
         "861.0"
        ]
       ],
       "shape": {
        "columns": 12,
        "rows": 5
       }
      },
      "text/html": [
       "<div>\n",
       "<style scoped>\n",
       "    .dataframe tbody tr th:only-of-type {\n",
       "        vertical-align: middle;\n",
       "    }\n",
       "\n",
       "    .dataframe tbody tr th {\n",
       "        vertical-align: top;\n",
       "    }\n",
       "\n",
       "    .dataframe thead th {\n",
       "        text-align: right;\n",
       "    }\n",
       "</style>\n",
       "<table border=\"1\" class=\"dataframe\">\n",
       "  <thead>\n",
       "    <tr style=\"text-align: right;\">\n",
       "      <th></th>\n",
       "      <th>GlobalMesh_X</th>\n",
       "      <th>GlobalMesh_Y</th>\n",
       "      <th>GlobalMesh_t</th>\n",
       "      <th>PML_X</th>\n",
       "      <th>PML_Y</th>\n",
       "      <th>PML_t</th>\n",
       "      <th>XYMesh_X</th>\n",
       "      <th>XYMesh_Y</th>\n",
       "      <th>XYMesh_t</th>\n",
       "      <th>ZMesh_X</th>\n",
       "      <th>ZMesh_Y</th>\n",
       "      <th>Z Mesh_t</th>\n",
       "    </tr>\n",
       "  </thead>\n",
       "  <tbody>\n",
       "    <tr>\n",
       "      <th>0</th>\n",
       "      <td>1.0</td>\n",
       "      <td>258.319</td>\n",
       "      <td>18.0</td>\n",
       "      <td>8</td>\n",
       "      <td>264.484</td>\n",
       "      <td>77</td>\n",
       "      <td>4.0</td>\n",
       "      <td>265.640</td>\n",
       "      <td>220.0</td>\n",
       "      <td>4.0</td>\n",
       "      <td>266.620</td>\n",
       "      <td>450.0</td>\n",
       "    </tr>\n",
       "    <tr>\n",
       "      <th>1</th>\n",
       "      <td>2.0</td>\n",
       "      <td>264.477</td>\n",
       "      <td>91.0</td>\n",
       "      <td>9</td>\n",
       "      <td>264.485</td>\n",
       "      <td>88</td>\n",
       "      <td>5.0</td>\n",
       "      <td>268.124</td>\n",
       "      <td>351.0</td>\n",
       "      <td>5.0</td>\n",
       "      <td>266.880</td>\n",
       "      <td>553.0</td>\n",
       "    </tr>\n",
       "    <tr>\n",
       "      <th>2</th>\n",
       "      <td>3.0</td>\n",
       "      <td>265.605</td>\n",
       "      <td>281.0</td>\n",
       "      <td>10</td>\n",
       "      <td>264.485</td>\n",
       "      <td>74</td>\n",
       "      <td>6.0</td>\n",
       "      <td>268.305</td>\n",
       "      <td>579.0</td>\n",
       "      <td>6.0</td>\n",
       "      <td>266.261</td>\n",
       "      <td>634.0</td>\n",
       "    </tr>\n",
       "    <tr>\n",
       "      <th>3</th>\n",
       "      <td>4.0</td>\n",
       "      <td>265.536</td>\n",
       "      <td>712.0</td>\n",
       "      <td>11</td>\n",
       "      <td>264.477</td>\n",
       "      <td>74</td>\n",
       "      <td>7.0</td>\n",
       "      <td>268.623</td>\n",
       "      <td>759.0</td>\n",
       "      <td>7.0</td>\n",
       "      <td>267.667</td>\n",
       "      <td>725.0</td>\n",
       "    </tr>\n",
       "    <tr>\n",
       "      <th>4</th>\n",
       "      <td>5.0</td>\n",
       "      <td>265.997</td>\n",
       "      <td>1364.0</td>\n",
       "      <td>12</td>\n",
       "      <td>264.477</td>\n",
       "      <td>74</td>\n",
       "      <td>8.0</td>\n",
       "      <td>268.224</td>\n",
       "      <td>1037.0</td>\n",
       "      <td>8.0</td>\n",
       "      <td>267.753</td>\n",
       "      <td>861.0</td>\n",
       "    </tr>\n",
       "  </tbody>\n",
       "</table>\n",
       "</div>"
      ],
      "text/plain": [
       "   GlobalMesh_X  GlobalMesh_Y  GlobalMesh_t  PML_X    PML_Y  PML_t  XYMesh_X  \\\n",
       "0           1.0       258.319          18.0      8  264.484     77       4.0   \n",
       "1           2.0       264.477          91.0      9  264.485     88       5.0   \n",
       "2           3.0       265.605         281.0     10  264.485     74       6.0   \n",
       "3           4.0       265.536         712.0     11  264.477     74       7.0   \n",
       "4           5.0       265.997        1364.0     12  264.477     74       8.0   \n",
       "\n",
       "   XYMesh_Y  XYMesh_t  ZMesh_X  ZMesh_Y  Z Mesh_t  \n",
       "0   265.640     220.0      4.0  266.620     450.0  \n",
       "1   268.124     351.0      5.0  266.880     553.0  \n",
       "2   268.305     579.0      6.0  266.261     634.0  \n",
       "3   268.623     759.0      7.0  267.667     725.0  \n",
       "4   268.224    1037.0      8.0  267.753     861.0  "
      ]
     },
     "execution_count": 12,
     "metadata": {},
     "output_type": "execute_result"
    }
   ],
   "source": [
    "# Create dataframe with the convergence data\n",
    "df_con = pd.read_excel(path, sheet_name=\"Convergence\")\n",
    "\n",
    "df_con.head(5)"
   ]
  },
  {
   "cell_type": "markdown",
   "id": "6bfdc35b",
   "metadata": {},
   "source": [
    "# Polarization"
   ]
  },
  {
   "cell_type": "code",
   "execution_count": 13,
   "id": "ff42127c",
   "metadata": {},
   "outputs": [
    {
     "data": {
      "application/vnd.microsoft.datawrangler.viewer.v0+json": {
       "columns": [
        {
         "name": "index",
         "rawType": "int64",
         "type": "integer"
        },
        {
         "name": "AM15Angle",
         "rawType": "int64",
         "type": "integer"
        },
        {
         "name": "Unnamed: 1",
         "rawType": "float64",
         "type": "float"
        },
        {
         "name": "AM15S",
         "rawType": "float64",
         "type": "float"
        },
        {
         "name": "Unnamed: 3",
         "rawType": "float64",
         "type": "float"
        },
        {
         "name": "AM15P",
         "rawType": "float64",
         "type": "float"
        },
        {
         "name": "Unnamed: 5",
         "rawType": "float64",
         "type": "float"
        },
        {
         "name": "AM15Dir",
         "rawType": "float64",
         "type": "float"
        },
        {
         "name": "Unnamed: 7",
         "rawType": "float64",
         "type": "float"
        },
        {
         "name": "AM0Angle",
         "rawType": "int64",
         "type": "integer"
        },
        {
         "name": "Unnamed: 9",
         "rawType": "float64",
         "type": "float"
        },
        {
         "name": "AM0S",
         "rawType": "float64",
         "type": "float"
        },
        {
         "name": "Unnamed: 11",
         "rawType": "float64",
         "type": "float"
        },
        {
         "name": "AM0P",
         "rawType": "float64",
         "type": "float"
        },
        {
         "name": "Unnamed: 13",
         "rawType": "float64",
         "type": "float"
        },
        {
         "name": "AM0Dir",
         "rawType": "float64",
         "type": "float"
        },
        {
         "name": "Unnamed: 15",
         "rawType": "float64",
         "type": "float"
        }
       ],
       "ref": "014984af-e409-4d39-aaf4-92835edbde47",
       "rows": [
        [
         "0",
         "0",
         "258.166",
         "0.0",
         "258.395",
         "0.0",
         "258.166",
         "0.0",
         "258.166",
         "0",
         "317.136",
         "0.0",
         "318.29",
         "0.0",
         "317.13",
         "0.0",
         "317.618"
        ],
        [
         "1",
         "10",
         "258.001",
         "10.0",
         "258.56",
         "10.0",
         "258.001",
         "5.0",
         "260.907",
         "10",
         "316.933",
         "10.0",
         "318.493",
         "10.0",
         "316.926",
         "10.0",
         "311.725"
        ],
        [
         "2",
         "20",
         "257.87",
         "20.0",
         "258.692",
         "20.0",
         "257.87",
         "10.0",
         "257.613",
         "20",
         "316.824",
         "20.0",
         "318.602",
         "20.0",
         "316.819",
         "20.0",
         "305.393"
        ],
        [
         "3",
         "30",
         "257.788",
         "30.0",
         "258.77",
         "30.0",
         "257.788",
         "15.0",
         "256.321",
         "30",
         "316.824",
         "30.0",
         "318.601",
         "30.0",
         "316.868",
         "30.0",
         "299.152"
        ],
        [
         "4",
         "40",
         "257.765",
         "40.0",
         "258.794",
         "40.0",
         "257.765",
         "20.0",
         "257.337",
         "40",
         "316.931",
         "40.0",
         "318.498",
         "40.0",
         "317.003",
         "40.0",
         "253.907"
        ]
       ],
       "shape": {
        "columns": 16,
        "rows": 5
       }
      },
      "text/html": [
       "<div>\n",
       "<style scoped>\n",
       "    .dataframe tbody tr th:only-of-type {\n",
       "        vertical-align: middle;\n",
       "    }\n",
       "\n",
       "    .dataframe tbody tr th {\n",
       "        vertical-align: top;\n",
       "    }\n",
       "\n",
       "    .dataframe thead th {\n",
       "        text-align: right;\n",
       "    }\n",
       "</style>\n",
       "<table border=\"1\" class=\"dataframe\">\n",
       "  <thead>\n",
       "    <tr style=\"text-align: right;\">\n",
       "      <th></th>\n",
       "      <th>AM15Angle</th>\n",
       "      <th>Unnamed: 1</th>\n",
       "      <th>AM15S</th>\n",
       "      <th>Unnamed: 3</th>\n",
       "      <th>AM15P</th>\n",
       "      <th>Unnamed: 5</th>\n",
       "      <th>AM15Dir</th>\n",
       "      <th>Unnamed: 7</th>\n",
       "      <th>AM0Angle</th>\n",
       "      <th>Unnamed: 9</th>\n",
       "      <th>AM0S</th>\n",
       "      <th>Unnamed: 11</th>\n",
       "      <th>AM0P</th>\n",
       "      <th>Unnamed: 13</th>\n",
       "      <th>AM0Dir</th>\n",
       "      <th>Unnamed: 15</th>\n",
       "    </tr>\n",
       "  </thead>\n",
       "  <tbody>\n",
       "    <tr>\n",
       "      <th>0</th>\n",
       "      <td>0</td>\n",
       "      <td>258.166</td>\n",
       "      <td>0.0</td>\n",
       "      <td>258.395</td>\n",
       "      <td>0.0</td>\n",
       "      <td>258.166</td>\n",
       "      <td>0.0</td>\n",
       "      <td>258.166</td>\n",
       "      <td>0</td>\n",
       "      <td>317.136</td>\n",
       "      <td>0.0</td>\n",
       "      <td>318.290</td>\n",
       "      <td>0.0</td>\n",
       "      <td>317.130</td>\n",
       "      <td>0.0</td>\n",
       "      <td>317.618</td>\n",
       "    </tr>\n",
       "    <tr>\n",
       "      <th>1</th>\n",
       "      <td>10</td>\n",
       "      <td>258.001</td>\n",
       "      <td>10.0</td>\n",
       "      <td>258.560</td>\n",
       "      <td>10.0</td>\n",
       "      <td>258.001</td>\n",
       "      <td>5.0</td>\n",
       "      <td>260.907</td>\n",
       "      <td>10</td>\n",
       "      <td>316.933</td>\n",
       "      <td>10.0</td>\n",
       "      <td>318.493</td>\n",
       "      <td>10.0</td>\n",
       "      <td>316.926</td>\n",
       "      <td>10.0</td>\n",
       "      <td>311.725</td>\n",
       "    </tr>\n",
       "    <tr>\n",
       "      <th>2</th>\n",
       "      <td>20</td>\n",
       "      <td>257.870</td>\n",
       "      <td>20.0</td>\n",
       "      <td>258.692</td>\n",
       "      <td>20.0</td>\n",
       "      <td>257.870</td>\n",
       "      <td>10.0</td>\n",
       "      <td>257.613</td>\n",
       "      <td>20</td>\n",
       "      <td>316.824</td>\n",
       "      <td>20.0</td>\n",
       "      <td>318.602</td>\n",
       "      <td>20.0</td>\n",
       "      <td>316.819</td>\n",
       "      <td>20.0</td>\n",
       "      <td>305.393</td>\n",
       "    </tr>\n",
       "    <tr>\n",
       "      <th>3</th>\n",
       "      <td>30</td>\n",
       "      <td>257.788</td>\n",
       "      <td>30.0</td>\n",
       "      <td>258.770</td>\n",
       "      <td>30.0</td>\n",
       "      <td>257.788</td>\n",
       "      <td>15.0</td>\n",
       "      <td>256.321</td>\n",
       "      <td>30</td>\n",
       "      <td>316.824</td>\n",
       "      <td>30.0</td>\n",
       "      <td>318.601</td>\n",
       "      <td>30.0</td>\n",
       "      <td>316.868</td>\n",
       "      <td>30.0</td>\n",
       "      <td>299.152</td>\n",
       "    </tr>\n",
       "    <tr>\n",
       "      <th>4</th>\n",
       "      <td>40</td>\n",
       "      <td>257.765</td>\n",
       "      <td>40.0</td>\n",
       "      <td>258.794</td>\n",
       "      <td>40.0</td>\n",
       "      <td>257.765</td>\n",
       "      <td>20.0</td>\n",
       "      <td>257.337</td>\n",
       "      <td>40</td>\n",
       "      <td>316.931</td>\n",
       "      <td>40.0</td>\n",
       "      <td>318.498</td>\n",
       "      <td>40.0</td>\n",
       "      <td>317.003</td>\n",
       "      <td>40.0</td>\n",
       "      <td>253.907</td>\n",
       "    </tr>\n",
       "  </tbody>\n",
       "</table>\n",
       "</div>"
      ],
      "text/plain": [
       "   AM15Angle  Unnamed: 1  AM15S  Unnamed: 3  AM15P  Unnamed: 5  AM15Dir  \\\n",
       "0          0     258.166    0.0     258.395    0.0     258.166      0.0   \n",
       "1         10     258.001   10.0     258.560   10.0     258.001      5.0   \n",
       "2         20     257.870   20.0     258.692   20.0     257.870     10.0   \n",
       "3         30     257.788   30.0     258.770   30.0     257.788     15.0   \n",
       "4         40     257.765   40.0     258.794   40.0     257.765     20.0   \n",
       "\n",
       "   Unnamed: 7  AM0Angle  Unnamed: 9  AM0S  Unnamed: 11  AM0P  Unnamed: 13  \\\n",
       "0     258.166         0     317.136   0.0      318.290   0.0      317.130   \n",
       "1     260.907        10     316.933  10.0      318.493  10.0      316.926   \n",
       "2     257.613        20     316.824  20.0      318.602  20.0      316.819   \n",
       "3     256.321        30     316.824  30.0      318.601  30.0      316.868   \n",
       "4     257.337        40     316.931  40.0      318.498  40.0      317.003   \n",
       "\n",
       "   AM0Dir  Unnamed: 15  \n",
       "0     0.0      317.618  \n",
       "1    10.0      311.725  \n",
       "2    20.0      305.393  \n",
       "3    30.0      299.152  \n",
       "4    40.0      253.907  "
      ]
     },
     "execution_count": 13,
     "metadata": {},
     "output_type": "execute_result"
    }
   ],
   "source": [
    "df_pol = pd.read_excel(path, sheet_name=\"Polarization\")\n",
    "\n",
    "df_pol.head(5)"
   ]
  },
  {
   "cell_type": "markdown",
   "id": "351054e3",
   "metadata": {},
   "source": [
    "# Parametric Analysis"
   ]
  },
  {
   "cell_type": "code",
   "execution_count": 14,
   "id": "4584f177",
   "metadata": {},
   "outputs": [
    {
     "data": {
      "application/vnd.microsoft.datawrangler.viewer.v0+json": {
       "columns": [
        {
         "name": "index",
         "rawType": "int64",
         "type": "integer"
        },
        {
         "name": "AM15Au_X",
         "rawType": "float64",
         "type": "float"
        },
        {
         "name": "AM15Au_Y",
         "rawType": "float64",
         "type": "float"
        },
        {
         "name": "AM15NiO_X",
         "rawType": "float64",
         "type": "float"
        },
        {
         "name": "AM15NiO_Y",
         "rawType": "float64",
         "type": "float"
        },
        {
         "name": "AM15ZnO_X",
         "rawType": "float64",
         "type": "float"
        },
        {
         "name": "AM15ZnO_Y",
         "rawType": "float64",
         "type": "float"
        },
        {
         "name": "AM15ITO_X",
         "rawType": "float64",
         "type": "float"
        },
        {
         "name": "AM15ITO_Y",
         "rawType": "float64",
         "type": "float"
        },
        {
         "name": "AM0Au_X",
         "rawType": "float64",
         "type": "float"
        },
        {
         "name": "AM0Au_Y",
         "rawType": "float64",
         "type": "float"
        },
        {
         "name": "AM0NiO_X",
         "rawType": "float64",
         "type": "float"
        },
        {
         "name": "AM0NiO_Y",
         "rawType": "float64",
         "type": "float"
        },
        {
         "name": "AM0ZnO_X",
         "rawType": "float64",
         "type": "float"
        },
        {
         "name": "AM0ZnO_Y",
         "rawType": "float64",
         "type": "float"
        },
        {
         "name": "AM0ITO_X",
         "rawType": "float64",
         "type": "float"
        },
        {
         "name": "AM0ITO_Y",
         "rawType": "float64",
         "type": "float"
        }
       ],
       "ref": "33e8d912-15ad-40dd-b083-e449b119f027",
       "rows": [
        [
         "0",
         "1.6e-07",
         "267.862",
         "8e-09",
         "267.754",
         "8e-08",
         "270.081",
         "2.8e-07",
         "271.055",
         "1.6e-07",
         "313.098",
         "8e-09",
         "315.653",
         "8e-08",
         "319.806",
         "2.8e-07",
         "319.933"
        ],
        [
         "1",
         "1.68889e-07",
         "267.84",
         "8.44444e-09",
         "267.338",
         "8.44444e-08",
         "269.32",
         "2.95556e-07",
         "270.217",
         "1.68889e-07",
         "314.376",
         "8.44444e-09",
         "319.438",
         "8.44444e-08",
         "320.265",
         "2.95556e-07",
         "319.884"
        ],
        [
         "2",
         "1.77778e-07",
         "268.164",
         "8.88889e-09",
         "267.322",
         "8.88889e-08",
         "268.596",
         "3.11111e-07",
         "269.414",
         "1.77778e-07",
         "315.495",
         "8.88889e-09",
         "317.73",
         "8.88889e-08",
         "318.39",
         "3.11111e-07",
         "318.55"
        ],
        [
         "3",
         "1.86667e-07",
         "268.284",
         "9.33333e-09",
         "267.899",
         "9.33333e-08",
         "269.232",
         "3.26667e-07",
         "268.854",
         "1.86667e-07",
         "316.534",
         "9.33333e-09",
         "319.4",
         "9.33333e-08",
         "318.762",
         "3.26667e-07",
         "318.494"
        ],
        [
         "4",
         "1.95556e-07",
         "268.385",
         "9.77778e-09",
         "268.005",
         "9.77778e-08",
         "269.01",
         "3.42222e-07",
         "266.834",
         "1.95556e-07",
         "317.471",
         "9.77778e-09",
         "319.059",
         "9.77778e-08",
         "318.453",
         "3.42222e-07",
         "318.785"
        ]
       ],
       "shape": {
        "columns": 16,
        "rows": 5
       }
      },
      "text/html": [
       "<div>\n",
       "<style scoped>\n",
       "    .dataframe tbody tr th:only-of-type {\n",
       "        vertical-align: middle;\n",
       "    }\n",
       "\n",
       "    .dataframe tbody tr th {\n",
       "        vertical-align: top;\n",
       "    }\n",
       "\n",
       "    .dataframe thead th {\n",
       "        text-align: right;\n",
       "    }\n",
       "</style>\n",
       "<table border=\"1\" class=\"dataframe\">\n",
       "  <thead>\n",
       "    <tr style=\"text-align: right;\">\n",
       "      <th></th>\n",
       "      <th>AM15Au_X</th>\n",
       "      <th>AM15Au_Y</th>\n",
       "      <th>AM15NiO_X</th>\n",
       "      <th>AM15NiO_Y</th>\n",
       "      <th>AM15ZnO_X</th>\n",
       "      <th>AM15ZnO_Y</th>\n",
       "      <th>AM15ITO_X</th>\n",
       "      <th>AM15ITO_Y</th>\n",
       "      <th>AM0Au_X</th>\n",
       "      <th>AM0Au_Y</th>\n",
       "      <th>AM0NiO_X</th>\n",
       "      <th>AM0NiO_Y</th>\n",
       "      <th>AM0ZnO_X</th>\n",
       "      <th>AM0ZnO_Y</th>\n",
       "      <th>AM0ITO_X</th>\n",
       "      <th>AM0ITO_Y</th>\n",
       "    </tr>\n",
       "  </thead>\n",
       "  <tbody>\n",
       "    <tr>\n",
       "      <th>0</th>\n",
       "      <td>1.600000e-07</td>\n",
       "      <td>267.862</td>\n",
       "      <td>8.000000e-09</td>\n",
       "      <td>267.754</td>\n",
       "      <td>8.000000e-08</td>\n",
       "      <td>270.081</td>\n",
       "      <td>2.800000e-07</td>\n",
       "      <td>271.055</td>\n",
       "      <td>1.600000e-07</td>\n",
       "      <td>313.098</td>\n",
       "      <td>8.000000e-09</td>\n",
       "      <td>315.653</td>\n",
       "      <td>8.000000e-08</td>\n",
       "      <td>319.806</td>\n",
       "      <td>2.800000e-07</td>\n",
       "      <td>319.933</td>\n",
       "    </tr>\n",
       "    <tr>\n",
       "      <th>1</th>\n",
       "      <td>1.688890e-07</td>\n",
       "      <td>267.840</td>\n",
       "      <td>8.444440e-09</td>\n",
       "      <td>267.338</td>\n",
       "      <td>8.444440e-08</td>\n",
       "      <td>269.320</td>\n",
       "      <td>2.955560e-07</td>\n",
       "      <td>270.217</td>\n",
       "      <td>1.688890e-07</td>\n",
       "      <td>314.376</td>\n",
       "      <td>8.444440e-09</td>\n",
       "      <td>319.438</td>\n",
       "      <td>8.444440e-08</td>\n",
       "      <td>320.265</td>\n",
       "      <td>2.955560e-07</td>\n",
       "      <td>319.884</td>\n",
       "    </tr>\n",
       "    <tr>\n",
       "      <th>2</th>\n",
       "      <td>1.777780e-07</td>\n",
       "      <td>268.164</td>\n",
       "      <td>8.888890e-09</td>\n",
       "      <td>267.322</td>\n",
       "      <td>8.888890e-08</td>\n",
       "      <td>268.596</td>\n",
       "      <td>3.111110e-07</td>\n",
       "      <td>269.414</td>\n",
       "      <td>1.777780e-07</td>\n",
       "      <td>315.495</td>\n",
       "      <td>8.888890e-09</td>\n",
       "      <td>317.730</td>\n",
       "      <td>8.888890e-08</td>\n",
       "      <td>318.390</td>\n",
       "      <td>3.111110e-07</td>\n",
       "      <td>318.550</td>\n",
       "    </tr>\n",
       "    <tr>\n",
       "      <th>3</th>\n",
       "      <td>1.866670e-07</td>\n",
       "      <td>268.284</td>\n",
       "      <td>9.333330e-09</td>\n",
       "      <td>267.899</td>\n",
       "      <td>9.333330e-08</td>\n",
       "      <td>269.232</td>\n",
       "      <td>3.266670e-07</td>\n",
       "      <td>268.854</td>\n",
       "      <td>1.866670e-07</td>\n",
       "      <td>316.534</td>\n",
       "      <td>9.333330e-09</td>\n",
       "      <td>319.400</td>\n",
       "      <td>9.333330e-08</td>\n",
       "      <td>318.762</td>\n",
       "      <td>3.266670e-07</td>\n",
       "      <td>318.494</td>\n",
       "    </tr>\n",
       "    <tr>\n",
       "      <th>4</th>\n",
       "      <td>1.955560e-07</td>\n",
       "      <td>268.385</td>\n",
       "      <td>9.777780e-09</td>\n",
       "      <td>268.005</td>\n",
       "      <td>9.777780e-08</td>\n",
       "      <td>269.010</td>\n",
       "      <td>3.422220e-07</td>\n",
       "      <td>266.834</td>\n",
       "      <td>1.955560e-07</td>\n",
       "      <td>317.471</td>\n",
       "      <td>9.777780e-09</td>\n",
       "      <td>319.059</td>\n",
       "      <td>9.777780e-08</td>\n",
       "      <td>318.453</td>\n",
       "      <td>3.422220e-07</td>\n",
       "      <td>318.785</td>\n",
       "    </tr>\n",
       "  </tbody>\n",
       "</table>\n",
       "</div>"
      ],
      "text/plain": [
       "       AM15Au_X  AM15Au_Y     AM15NiO_X  AM15NiO_Y     AM15ZnO_X  AM15ZnO_Y  \\\n",
       "0  1.600000e-07   267.862  8.000000e-09    267.754  8.000000e-08    270.081   \n",
       "1  1.688890e-07   267.840  8.444440e-09    267.338  8.444440e-08    269.320   \n",
       "2  1.777780e-07   268.164  8.888890e-09    267.322  8.888890e-08    268.596   \n",
       "3  1.866670e-07   268.284  9.333330e-09    267.899  9.333330e-08    269.232   \n",
       "4  1.955560e-07   268.385  9.777780e-09    268.005  9.777780e-08    269.010   \n",
       "\n",
       "      AM15ITO_X  AM15ITO_Y       AM0Au_X  AM0Au_Y      AM0NiO_X  AM0NiO_Y  \\\n",
       "0  2.800000e-07    271.055  1.600000e-07  313.098  8.000000e-09   315.653   \n",
       "1  2.955560e-07    270.217  1.688890e-07  314.376  8.444440e-09   319.438   \n",
       "2  3.111110e-07    269.414  1.777780e-07  315.495  8.888890e-09   317.730   \n",
       "3  3.266670e-07    268.854  1.866670e-07  316.534  9.333330e-09   319.400   \n",
       "4  3.422220e-07    266.834  1.955560e-07  317.471  9.777780e-09   319.059   \n",
       "\n",
       "       AM0ZnO_X  AM0ZnO_Y      AM0ITO_X  AM0ITO_Y  \n",
       "0  8.000000e-08   319.806  2.800000e-07   319.933  \n",
       "1  8.444440e-08   320.265  2.955560e-07   319.884  \n",
       "2  8.888890e-08   318.390  3.111110e-07   318.550  \n",
       "3  9.333330e-08   318.762  3.266670e-07   318.494  \n",
       "4  9.777780e-08   318.453  3.422220e-07   318.785  "
      ]
     },
     "execution_count": 14,
     "metadata": {},
     "output_type": "execute_result"
    }
   ],
   "source": [
    "df_par_geo = pd.read_excel(path, sheet_name=\"Parametric\")\n",
    "df_par_lay = pd.read_excel(path, sheet_name=\"Layers\")\n",
    "\n",
    "df_par_lay.head(5)"
   ]
  }
 ],
 "metadata": {
  "kernelspec": {
   "display_name": "Python 3",
   "language": "python",
   "name": "python3"
  },
  "language_info": {
   "codemirror_mode": {
    "name": "ipython",
    "version": 3
   },
   "file_extension": ".py",
   "mimetype": "text/x-python",
   "name": "python",
   "nbconvert_exporter": "python",
   "pygments_lexer": "ipython3",
   "version": "3.11.0"
  }
 },
 "nbformat": 4,
 "nbformat_minor": 5
}
